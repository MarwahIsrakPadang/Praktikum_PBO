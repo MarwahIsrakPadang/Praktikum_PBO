{
  "nbformat": 4,
  "nbformat_minor": 0,
  "metadata": {
    "colab": {
      "provenance": [],
      "authorship_tag": "ABX9TyPLSnDia8i9jubCqoNheFFh",
      "include_colab_link": true
    },
    "kernelspec": {
      "name": "python3",
      "display_name": "Python 3"
    },
    "language_info": {
      "name": "python"
    }
  },
  "cells": [
    {
      "cell_type": "markdown",
      "metadata": {
        "id": "view-in-github",
        "colab_type": "text"
      },
      "source": [
        "<a href=\"https://colab.research.google.com/github/MarwahIsrakPadang/Praktikum_PBO/blob/main/Buku.ipynb\" target=\"_parent\"><img src=\"https://colab.research.google.com/assets/colab-badge.svg\" alt=\"Open In Colab\"/></a>"
      ]
    },
    {
      "cell_type": "code",
      "source": [
        "class Buku:\n",
        "    def __init__(self, judul, penulis):\n",
        "        self.judul = judul\n",
        "        self.penulis = penulis\n",
        "\n",
        "    def info_buku(self):\n",
        "        print(f\"Buku: '{self.judul}' ditulis oleh {self.penulis}\")\n",
        "\n",
        "obj_buku = Buku(\"Belajar Python\", \"Marwah Israk Padang\")\n",
        "obj_buku.info_buku()"
      ],
      "metadata": {
        "colab": {
          "base_uri": "https://localhost:8080/"
        },
        "id": "Nvk4ZFwtFMW7",
        "outputId": "9f855142-be33-480b-e383-c789dfca35a1"
      },
      "execution_count": 21,
      "outputs": [
        {
          "output_type": "stream",
          "name": "stdout",
          "text": [
            "Buku: 'Belajar Python' ditulis oleh Marwah Israk Padang\n"
          ]
        }
      ]
    }
  ]
}