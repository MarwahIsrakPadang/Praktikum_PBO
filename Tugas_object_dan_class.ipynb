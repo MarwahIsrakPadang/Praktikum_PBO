{
  "nbformat": 4,
  "nbformat_minor": 0,
  "metadata": {
    "colab": {
      "provenance": [],
      "authorship_tag": "ABX9TyONB12FfLHOVQIuGaehkJM6",
      "include_colab_link": true
    },
    "kernelspec": {
      "name": "python3",
      "display_name": "Python 3"
    },
    "language_info": {
      "name": "python"
    }
  },
  "cells": [
    {
      "cell_type": "markdown",
      "metadata": {
        "id": "view-in-github",
        "colab_type": "text"
      },
      "source": [
        "<a href=\"https://colab.research.google.com/github/MarwahIsrakPadang/Praktikum_PBO/blob/main/Tugas_object_dan_class.ipynb\" target=\"_parent\"><img src=\"https://colab.research.google.com/assets/colab-badge.svg\" alt=\"Open In Colab\"/></a>"
      ]
    },
    {
      "cell_type": "code",
      "source": [
        "class Variable:\n",
        "    person = 'Person'\n",
        "\n",
        "    #The init method or constructor\n",
        "    def __init__(self, rambut, warna):\n",
        "\n",
        "        #Instance Variable\n",
        "        self.rambut = rambut\n",
        "        self.warna = warna\n",
        "\n",
        "  #Objects\n",
        "Budi = Variable(\"Ikal\", \"Hitam\")\n",
        "Michael = Variable(\"Lurus\", \"Pirang\")\n",
        "\n",
        "print('Budi details:')\n",
        "print('rambut:', Budi.rambut)\n",
        "print('warna rambut:', Budi.warna)\n",
        "\n",
        "print('\\nMichael details:')\n",
        "print('rambut:', Michael.rambut)\n",
        "print('warna rambut:', Michael.warna)\n"
      ],
      "metadata": {
        "colab": {
          "base_uri": "https://localhost:8080/"
        },
        "id": "Nvk4ZFwtFMW7",
        "outputId": "20c5c6c9-7a8d-44f5-b9d8-566e5a322870"
      },
      "execution_count": 20,
      "outputs": [
        {
          "output_type": "stream",
          "name": "stdout",
          "text": [
            "Budi details:\n",
            "rambut: Ikal\n",
            "warna rambut: Hitam\n",
            "\n",
            "Michael details:\n",
            "rambut: Lurus\n",
            "warna rambut: Pirang\n"
          ]
        }
      ]
    }
  ]
}