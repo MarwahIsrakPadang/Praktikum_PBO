{
  "nbformat": 4,
  "nbformat_minor": 0,
  "metadata": {
    "colab": {
      "provenance": [],
      "authorship_tag": "ABX9TyOQ7WfvxPasMbe9N3C3TB8j",
      "include_colab_link": true
    },
    "kernelspec": {
      "name": "python3",
      "display_name": "Python 3"
    },
    "language_info": {
      "name": "python"
    }
  },
  "cells": [
    {
      "cell_type": "markdown",
      "metadata": {
        "id": "view-in-github",
        "colab_type": "text"
      },
      "source": [
        "<a href=\"https://colab.research.google.com/github/MarwahIsrakPadang/Praktikum_PBO/blob/main/instancevariabel_py.ipynb\" target=\"_parent\"><img src=\"https://colab.research.google.com/assets/colab-badge.svg\" alt=\"Open In Colab\"/></a>"
      ]
    },
    {
      "cell_type": "code",
      "source": [
        "class Dog:\n",
        "    # Class variable\n",
        "    species = \"Marwah\"\n",
        "\n",
        "    def __init__(self, name, age):\n",
        "        # Instance variables\n",
        "        self.name = name\n",
        "        self.age = age\n",
        "\n",
        "# Create objects\n",
        "dog1 = Dog(\"Heri\", 3)\n",
        "dog2 = Dog(\"Charlie\", 5)\n",
        "\n",
        "# Access class and instance variables\n",
        "print(dog1.species)  # (Class variable)\n",
        "print(dog1.name)     # (Instance variable)\n",
        "print(dog2.name)     # (Instance variable)\n",
        "\n",
        "# Modify instance variables\n",
        "dog1.name = \"Dio\"\n",
        "print(dog1.name)     # (Updated instance variable)\n",
        "\n",
        "# Modify class variable\n",
        "Dog.species = \"Agus\"\n",
        "print(dog1.species)  # (Updated class variable)\n",
        "print(dog2.species)"
      ],
      "metadata": {
        "colab": {
          "base_uri": "https://localhost:8080/"
        },
        "id": "Iy1jF9xtSk1-",
        "outputId": "a411b389-35fe-47d2-feda-7f5ff3506c94"
      },
      "execution_count": 4,
      "outputs": [
        {
          "output_type": "stream",
          "name": "stdout",
          "text": [
            "Marwah\n",
            "Heri\n",
            "Charlie\n",
            "Dio\n",
            "Agus\n",
            "Agus\n"
          ]
        }
      ]
    }
  ]
}